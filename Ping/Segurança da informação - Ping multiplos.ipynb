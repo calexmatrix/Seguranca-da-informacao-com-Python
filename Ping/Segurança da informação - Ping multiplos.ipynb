{
 "cells": [
  {
   "cell_type": "code",
   "execution_count": 5,
   "id": "fc146288",
   "metadata": {},
   "outputs": [
    {
     "name": "stdout",
     "output_type": "stream",
     "text": [
      "Verificando o ip: www.google.com\n",
      "------------------------------------------------------------\n",
      "------------------------------------------------------------\n",
      "Verificando o ip: 8.8.8.\n",
      "------------------------------------------------------------\n",
      "------------------------------------------------------------\n",
      "Verificando o ip: www.pudim.com.br\n",
      "------------------------------------------------------------\n",
      "------------------------------------------------------------\n",
      "Verificando o ip: 4.4.4.\n",
      "------------------------------------------------------------\n",
      "------------------------------------------------------------\n"
     ]
    }
   ],
   "source": [
    "import os\n",
    "import time\n",
    "\n",
    "with open('hosts.txt') as file:\n",
    "    dump = file.read()\n",
    "    dump = dump. splitlines()\n",
    "    \n",
    "    for ip in dump:\n",
    "        print('Verificando o ip:', ip)\n",
    "        print('-' * 60)\n",
    "        os.system('ping -n 2 {}' .format(ip))\n",
    "        print('-' * 60)\n",
    "        time.sleep(5)\n",
    "        "
   ]
  },
  {
   "cell_type": "code",
   "execution_count": null,
   "id": "ce5e6b75",
   "metadata": {},
   "outputs": [],
   "source": []
  }
 ],
 "metadata": {
  "kernelspec": {
   "display_name": "Python 3 (ipykernel)",
   "language": "python",
   "name": "python3"
  },
  "language_info": {
   "codemirror_mode": {
    "name": "ipython",
    "version": 3
   },
   "file_extension": ".py",
   "mimetype": "text/x-python",
   "name": "python",
   "nbconvert_exporter": "python",
   "pygments_lexer": "ipython3",
   "version": "3.9.7"
  }
 },
 "nbformat": 4,
 "nbformat_minor": 5
}
