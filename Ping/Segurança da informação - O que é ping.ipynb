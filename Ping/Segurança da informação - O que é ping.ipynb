{
 "cells": [
  {
   "cell_type": "code",
   "execution_count": 3,
   "id": "3dcb91c3",
   "metadata": {},
   "outputs": [],
   "source": [
    "#integra os programas e do S.O.\n",
    "import os"
   ]
  },
  {
   "cell_type": "code",
   "execution_count": 4,
   "id": "8536d780",
   "metadata": {},
   "outputs": [
    {
     "name": "stdout",
     "output_type": "stream",
     "text": [
      "############################################################\n",
      "Digite o IP ou Host a ser veirificado: 192.168.1.109\n",
      "------------------------------------------------------------\n",
      "------------------------------------------------------------\n"
     ]
    }
   ],
   "source": [
    "#Imprime 60 vezes \n",
    "print(\"#\" * 60)\n",
    "\n",
    "#cria uma variavel que vai receber do usuario um ip\n",
    "ip_ou_host = input(\"Digite o IP ou Host a ser veirificado: \")\n",
    "print(\"-\" * 60)\n",
    "#chamando system da biblioteca os - comando ping #-n -num de pacotes que serão 6 {}\n",
    "os.system('ping -n 6 {}'.format(ip_ou_host))\n",
    "#Imprimindo - 60 vezes\n",
    "print(\"-\" * 60)\n",
    "\n"
   ]
  },
  {
   "cell_type": "code",
   "execution_count": null,
   "id": "f932a0c0",
   "metadata": {},
   "outputs": [],
   "source": []
  }
 ],
 "metadata": {
  "kernelspec": {
   "display_name": "Python 3 (ipykernel)",
   "language": "python",
   "name": "python3"
  },
  "language_info": {
   "codemirror_mode": {
    "name": "ipython",
    "version": 3
   },
   "file_extension": ".py",
   "mimetype": "text/x-python",
   "name": "python",
   "nbconvert_exporter": "python",
   "pygments_lexer": "ipython3",
   "version": "3.9.7"
  }
 },
 "nbformat": 4,
 "nbformat_minor": 5
}
