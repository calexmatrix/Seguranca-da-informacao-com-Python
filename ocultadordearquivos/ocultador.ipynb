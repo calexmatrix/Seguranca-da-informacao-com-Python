{
 "cells": [
  {
   "cell_type": "code",
   "execution_count": 1,
   "id": "df2e2fd3",
   "metadata": {},
   "outputs": [
    {
     "name": "stdout",
     "output_type": "stream",
     "text": [
      "Arquivo foi ocultado\n"
     ]
    }
   ],
   "source": [
    "import ctypes\n",
    "\n",
    "atributo_ocultar = 0x02\n",
    "\n",
    "retorno = ctypes.windll.kernel32.SetFileAttributesW('ocultar.txt', atributo_ocultar)\n",
    "\n",
    "if retorno:\n",
    "    print(\"Arquivo foi ocultado\")\n",
    "else:\n",
    "    print('Erro: Arquivo não foi ocultado')"
   ]
  },
  {
   "cell_type": "code",
   "execution_count": 2,
   "id": "968f0019",
   "metadata": {},
   "outputs": [
    {
     "name": "stdout",
     "output_type": "stream",
     "text": [
      "Digite o caminho da pasta a ser ocultado ex: (C:/Pasta): C:\\teste\n",
      "Pasta foi ocultado\n"
     ]
    }
   ],
   "source": [
    "import ctypes\n",
    "\n",
    "pasta = input(\"Digite o caminho da pasta a ser ocultado ex: (C:/Pasta): \")\n",
    "\n",
    "atributo_ocultar = 0x02\n",
    "\n",
    "retorno = ctypes.windll.kernel32.SetFileAttributesW(pasta, atributo_ocultar)\n",
    "\n",
    "if retorno:\n",
    "    print(\"Pasta foi ocultado\")\n",
    "else:\n",
    "    print('Erro: Pasta não foi ocultado')"
   ]
  },
  {
   "cell_type": "code",
   "execution_count": null,
   "id": "8f148baf",
   "metadata": {},
   "outputs": [],
   "source": []
  }
 ],
 "metadata": {
  "kernelspec": {
   "display_name": "Python 3 (ipykernel)",
   "language": "python",
   "name": "python3"
  },
  "language_info": {
   "codemirror_mode": {
    "name": "ipython",
    "version": 3
   },
   "file_extension": ".py",
   "mimetype": "text/x-python",
   "name": "python",
   "nbconvert_exporter": "python",
   "pygments_lexer": "ipython3",
   "version": "3.9.7"
  }
 },
 "nbformat": 4,
 "nbformat_minor": 5
}
