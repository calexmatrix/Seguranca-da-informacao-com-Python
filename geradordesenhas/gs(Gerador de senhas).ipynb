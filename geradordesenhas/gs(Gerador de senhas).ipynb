{
 "cells": [
  {
   "cell_type": "code",
   "execution_count": 6,
   "id": "7d131f0b",
   "metadata": {},
   "outputs": [
    {
     "name": "stdout",
     "output_type": "stream",
     "text": [
      "Digite o tamanho de senha desejado: 15\n",
      "i#SpyKbB3fze+vZ\n"
     ]
    }
   ],
   "source": [
    "import random, string\n",
    "\n",
    "#tamanho = 16 #(tamanho fixo de senha)\n",
    "\n",
    "tamanho = int(input('Digite o tamanho de senha desejado: '))\n",
    "\n",
    "chars = string.ascii_letters + string.digits + '!@#$%&*()-=+,.;:/?'\n",
    "\n",
    "rnd = random.SystemRandom() #os.urandom\n",
    "\n",
    "print(''.join(rnd.choice(chars) for i in range(tamanho)))"
   ]
  }
 ],
 "metadata": {
  "kernelspec": {
   "display_name": "Python 3 (ipykernel)",
   "language": "python",
   "name": "python3"
  },
  "language_info": {
   "codemirror_mode": {
    "name": "ipython",
    "version": 3
   },
   "file_extension": ".py",
   "mimetype": "text/x-python",
   "name": "python",
   "nbconvert_exporter": "python",
   "pygments_lexer": "ipython3",
   "version": "3.9.7"
  }
 },
 "nbformat": 4,
 "nbformat_minor": 5
}
