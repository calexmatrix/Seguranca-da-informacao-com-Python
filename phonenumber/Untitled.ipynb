{
 "cells": [
  {
   "cell_type": "code",
   "execution_count": 4,
   "id": "da139534",
   "metadata": {},
   "outputs": [
    {
     "name": "stdout",
     "output_type": "stream",
     "text": [
      "Digite o telefone no formato exemplo +551140028922: +551140028922\n",
      "São Paulo\n"
     ]
    }
   ],
   "source": [
    "import phonenumbers\n",
    "\n",
    "from phonenumbers import geocoder\n",
    "\n",
    "phone = input('Digite o telefone no formato exemplo +551140028922: ')\n",
    "phone_number = phonenumbers.parse(phone)\n",
    "\n",
    "print(geocoder.description_for_number(phone_number, 'pt'))"
   ]
  },
  {
   "cell_type": "code",
   "execution_count": 3,
   "id": "e161273c",
   "metadata": {},
   "outputs": [
    {
     "name": "stdout",
     "output_type": "stream",
     "text": [
      "Requirement already satisfied: phonenumbers in c:\\users\\calex\\anaconda3\\lib\\site-packages (8.12.46)\n"
     ]
    }
   ],
   "source": [
    "!pip install phonenumbers"
   ]
  },
  {
   "cell_type": "code",
   "execution_count": null,
   "id": "e18fe139",
   "metadata": {},
   "outputs": [],
   "source": []
  }
 ],
 "metadata": {
  "kernelspec": {
   "display_name": "Python 3 (ipykernel)",
   "language": "python",
   "name": "python3"
  },
  "language_info": {
   "codemirror_mode": {
    "name": "ipython",
    "version": 3
   },
   "file_extension": ".py",
   "mimetype": "text/x-python",
   "name": "python",
   "nbconvert_exporter": "python",
   "pygments_lexer": "ipython3",
   "version": "3.9.7"
  }
 },
 "nbformat": 4,
 "nbformat_minor": 5
}
