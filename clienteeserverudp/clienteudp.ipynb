{
 "cells": [
  {
   "cell_type": "code",
   "execution_count": null,
   "id": "16c7e7df",
   "metadata": {},
   "outputs": [],
   "source": [
    "import socket\n",
    "\n",
    "s = socket.socket(socket.AF_INET, socket.SOCK_DGRAM)\n",
    "\n",
    "print('Cliente Socket criado com Sucesso!!!')\n",
    "\n",
    "host = 'localhost'\n",
    "porta = 5433\n",
    "mensagem = 'Olá servidor show?'\n",
    "\n",
    "try:\n",
    "    print('Cliente:' + mensagem)\n",
    "    s.sendto(mensagem.encode(), (host, 5432))\n",
    "    \n",
    "    dados, servidor = s.recvfrom(4096)\n",
    "    dados = dados.decode()\n",
    "    print(\"Cliente: \" + dados)\n",
    "finally:\n",
    "    print('Cliente: Fechando a Conexão')\n",
    "    s.close()"
   ]
  },
  {
   "cell_type": "code",
   "execution_count": null,
   "id": "4dac19af",
   "metadata": {},
   "outputs": [],
   "source": []
  },
  {
   "cell_type": "code",
   "execution_count": null,
   "id": "47f6f019",
   "metadata": {},
   "outputs": [],
   "source": []
  }
 ],
 "metadata": {
  "kernelspec": {
   "display_name": "Python 3 (ipykernel)",
   "language": "python",
   "name": "python3"
  },
  "language_info": {
   "codemirror_mode": {
    "name": "ipython",
    "version": 3
   },
   "file_extension": ".py",
   "mimetype": "text/x-python",
   "name": "python",
   "nbconvert_exporter": "python",
   "pygments_lexer": "ipython3",
   "version": "3.9.7"
  }
 },
 "nbformat": 4,
 "nbformat_minor": 5
}
