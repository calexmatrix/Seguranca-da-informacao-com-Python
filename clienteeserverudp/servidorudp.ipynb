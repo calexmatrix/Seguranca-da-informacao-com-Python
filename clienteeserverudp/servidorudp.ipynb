{
 "cells": [
  {
   "cell_type": "code",
   "execution_count": null,
   "id": "7bf07629",
   "metadata": {},
   "outputs": [
    {
     "name": "stdout",
     "output_type": "stream",
     "text": [
      "Cliente Socket criado com Sucesso!!!\n"
     ]
    }
   ],
   "source": [
    "import socket\n",
    "\n",
    "s = socket.socket(socket.AF_INET, socket.SOCK_DGRAM)\n",
    "\n",
    "print('Cliente Socket criado com Sucesso!!!')\n",
    "\n",
    "host = 'localhost'\n",
    "porta = 5432\n",
    "\n",
    "\n",
    "s.bind((host, porta))\n",
    "mensagem = '\\nServidor: Oláaaaa Cliente e ai tudo top?'\n",
    "\n",
    "while 1:\n",
    "    dados, enc = s.recvfrom(4096)\n",
    "    \n",
    "    if dados:\n",
    "        print('Servidor = enviando mensagem ...')\n",
    "        s.sendto(dados + (mensagem.encode()), end)"
   ]
  },
  {
   "cell_type": "code",
   "execution_count": null,
   "id": "89d0de56",
   "metadata": {},
   "outputs": [],
   "source": []
  }
 ],
 "metadata": {
  "kernelspec": {
   "display_name": "Python 3 (ipykernel)",
   "language": "python",
   "name": "python3"
  },
  "language_info": {
   "codemirror_mode": {
    "name": "ipython",
    "version": 3
   },
   "file_extension": ".py",
   "mimetype": "text/x-python",
   "name": "python",
   "nbconvert_exporter": "python",
   "pygments_lexer": "ipython3",
   "version": "3.9.7"
  }
 },
 "nbformat": 4,
 "nbformat_minor": 5
}
