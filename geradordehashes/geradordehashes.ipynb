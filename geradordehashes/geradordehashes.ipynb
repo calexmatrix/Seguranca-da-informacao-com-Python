{
 "cells": [
  {
   "cell_type": "code",
   "execution_count": 16,
   "id": "b0228ffa",
   "metadata": {},
   "outputs": [
    {
     "name": "stdout",
     "output_type": "stream",
     "text": [
      "Digite o texto a ser gerado a hash: teste\n",
      " #### MENU - ESCOLHA O TIPO DE HASH ####\n",
      "                1) MD5\n",
      "                2) SHA1\n",
      "                3) SHA256\n",
      "                4) SHA512\n",
      "                Digite o numero do hash a ser gerado: 5\n",
      "Algo deu errado, não deu certo. Tente novamente \n"
     ]
    }
   ],
   "source": [
    "import hashlib\n",
    "\n",
    "string = input(\"Digite o texto a ser gerado a hash: \")\n",
    "\n",
    "menu = int(input(''' #### MENU - ESCOLHA O TIPO DE HASH ####\n",
    "                1) MD5\n",
    "                2) SHA1\n",
    "                3) SHA256\n",
    "                4) SHA512\n",
    "                Digite o numero do hash a ser gerado: '''))\n",
    "if menu == 1:\n",
    "    resultado = hashlib.md5(string.encode('utf-8'))\n",
    "    print(\"O hash MD5 da string é: \", string, 'é: ', resultado.hexdigest())\n",
    "elif menu == 2:\n",
    "    resultado = hashlib.sha1(string.encode('utf-8'))\n",
    "    print(\"O hash SHA1 da string é: \", string, 'é: ', resultado.hexdigest())\n",
    "elif menu == 3:\n",
    "    resultado = hashlib.sha256(string.encode('utf-8'))\n",
    "    print(\"O hash SHA256 da string é: \", string, 'é: ', resultado.hexdigest())\n",
    "elif menu == 4:\n",
    "    resultado = hashlib.sha512(string.encode('utf-8'))\n",
    "    print(\"O hash SHA512 da string é: \", string, 'é: ', resultado.hexdigest())\n",
    "else:\n",
    "    print('Algo deu errado, não deu certo. Tente novamente ')"
   ]
  },
  {
   "cell_type": "code",
   "execution_count": null,
   "id": "5616a3f4",
   "metadata": {},
   "outputs": [],
   "source": []
  }
 ],
 "metadata": {
  "kernelspec": {
   "display_name": "Python 3 (ipykernel)",
   "language": "python",
   "name": "python3"
  },
  "language_info": {
   "codemirror_mode": {
    "name": "ipython",
    "version": 3
   },
   "file_extension": ".py",
   "mimetype": "text/x-python",
   "name": "python",
   "nbconvert_exporter": "python",
   "pygments_lexer": "ipython3",
   "version": "3.9.7"
  }
 },
 "nbformat": 4,
 "nbformat_minor": 5
}
