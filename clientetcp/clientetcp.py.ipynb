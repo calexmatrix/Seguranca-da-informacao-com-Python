{
 "cells": [
  {
   "cell_type": "code",
   "execution_count": 4,
   "id": "91f0e123",
   "metadata": {},
   "outputs": [],
   "source": [
    "import socket\n",
    "import sys"
   ]
  },
  {
   "cell_type": "code",
   "execution_count": 7,
   "id": "453090bb",
   "metadata": {},
   "outputs": [
    {
     "name": "stdout",
     "output_type": "stream",
     "text": [
      "Socket criado com sucesso\n",
      "Digite o Host ou Ip a ser conectado: google.com\n",
      "Digite a porta a ser conectada: 80\n",
      "Cliente TCP conectado com Sucesso no Host: google.come na Porta: 80\n"
     ]
    }
   ],
   "source": [
    "def main():\n",
    "    try:\n",
    "        s = socket.socket(socket.AF_INET, socket.SOCK_STREAM, 0)\n",
    "    except socket.error as e:\n",
    "        print(\"A conexão falhou!!!\")\n",
    "        print(\"Erro: {}\".format(e))\n",
    "        sys.exit()\n",
    "    print(\"Socket criado com sucesso\")\n",
    "    \n",
    "    HostAlvo = input(\"Digite o Host ou Ip a ser conectado: \")\n",
    "    PortaAlvo = input(\"Digite a porta a ser conectada: \")\n",
    "    \n",
    "    try:\n",
    "        s.connect((HostAlvo, int(PortaAlvo)))\n",
    "        print(\"Cliente TCP conectado com Sucesso no Host: \" + HostAlvo + \"e na Porta: \" + PortaAlvo)\n",
    "        s.shutdown(2)\n",
    "    except socket.error as e:\n",
    "        print(\"Não foi possivel conectar no Host: \" + HostAlvo + \"Porta:\" + PortaAlvo)\n",
    "        print(\"Erro: {}\".format(e))\n",
    "        sys.exit()\n",
    "if __name__ == \"__main__\":\n",
    "    main()"
   ]
  },
  {
   "cell_type": "code",
   "execution_count": null,
   "id": "ccf2bd49",
   "metadata": {},
   "outputs": [],
   "source": []
  }
 ],
 "metadata": {
  "kernelspec": {
   "display_name": "Python 3 (ipykernel)",
   "language": "python",
   "name": "python3"
  },
  "language_info": {
   "codemirror_mode": {
    "name": "ipython",
    "version": 3
   },
   "file_extension": ".py",
   "mimetype": "text/x-python",
   "name": "python",
   "nbconvert_exporter": "python",
   "pygments_lexer": "ipython3",
   "version": "3.9.7"
  }
 },
 "nbformat": 4,
 "nbformat_minor": 5
}
